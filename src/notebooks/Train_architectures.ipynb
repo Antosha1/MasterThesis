{
 "cells": [
  {
   "cell_type": "markdown",
   "id": "b7cad670-cbe3-439b-9484-a509af89b6f5",
   "metadata": {},
   "source": [
    "## SPOS"
   ]
  },
  {
   "cell_type": "code",
   "execution_count": null,
   "id": "f42df6bb-9c08-41d7-9da0-b244d9ea71f2",
   "metadata": {},
   "outputs": [],
   "source": []
  },
  {
   "cell_type": "markdown",
   "id": "2aa29fea-b2c3-40b6-9bc1-0ba1625f0a62",
   "metadata": {},
   "source": [
    "## Random"
   ]
  },
  {
   "cell_type": "code",
   "execution_count": null,
   "id": "68b8c908-215b-407e-8d7b-d49bcbea4e3d",
   "metadata": {},
   "outputs": [],
   "source": []
  },
  {
   "cell_type": "markdown",
   "id": "445b3620-35b8-429e-be01-e73c6094dd27",
   "metadata": {},
   "source": [
    "## DARTS"
   ]
  },
  {
   "cell_type": "code",
   "execution_count": null,
   "id": "7feab4c0-1348-4ec6-9875-7b47a213a645",
   "metadata": {},
   "outputs": [],
   "source": []
  },
  {
   "cell_type": "markdown",
   "id": "e974d1ad-9a36-4c62-9c01-d9e492095b97",
   "metadata": {},
   "source": [
    "## ENAS"
   ]
  },
  {
   "cell_type": "code",
   "execution_count": null,
   "id": "f681ca51-c352-4a13-854a-73f1052f785d",
   "metadata": {},
   "outputs": [],
   "source": []
  },
  {
   "cell_type": "markdown",
   "id": "62d4f70f-69d4-448d-afa0-6cc1973cf141",
   "metadata": {},
   "source": [
    "## VarDARTS"
   ]
  },
  {
   "cell_type": "code",
   "execution_count": null,
   "id": "b3d41d75-b8b3-4ce8-8f28-75f106906678",
   "metadata": {},
   "outputs": [],
   "source": []
  }
 ],
 "metadata": {
  "kernelspec": {
   "display_name": "Python 3",
   "language": "python",
   "name": "python3"
  },
  "language_info": {
   "codemirror_mode": {
    "name": "ipython",
    "version": 3
   },
   "file_extension": ".py",
   "mimetype": "text/x-python",
   "name": "python",
   "nbconvert_exporter": "python",
   "pygments_lexer": "ipython3",
   "version": "3.8.8"
  }
 },
 "nbformat": 4,
 "nbformat_minor": 5
}
