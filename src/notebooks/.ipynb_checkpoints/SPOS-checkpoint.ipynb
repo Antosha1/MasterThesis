{
 "cells": [
  {
   "cell_type": "code",
   "execution_count": 4,
   "id": "38d02e19-1714-48a5-972c-f12b7386ead6",
   "metadata": {},
   "outputs": [],
   "source": [
    "import sys\n",
    "sys.path.append('../')\n",
    "\n",
    "from model import CNN\n",
    "from utils import accuracy\n",
    "\n",
    "import nni\n",
    "from nni.retiarii.oneshot.pytorch import SinglePathTrainer\n",
    "\n",
    "import torch\n",
    "from torchvision import transforms\n",
    "from torchvision.datasets import FashionMNIST"
   ]
  },
  {
   "cell_type": "code",
   "execution_count": 2,
   "id": "d4ed2a32-bc60-4835-bc65-6e8d322de9fe",
   "metadata": {},
   "outputs": [
    {
     "name": "stdout",
     "output_type": "stream",
     "text": [
      "Downloading http://fashion-mnist.s3-website.eu-central-1.amazonaws.com/train-images-idx3-ubyte.gz\n",
      "Downloading http://fashion-mnist.s3-website.eu-central-1.amazonaws.com/train-images-idx3-ubyte.gz to ./data\\FashionMNIST\\raw\\train-images-idx3-ubyte.gz\n"
     ]
    },
    {
     "data": {
      "application/vnd.jupyter.widget-view+json": {
       "model_id": "ba9d104d0d3c4a09b0a5d5271bbb5471",
       "version_major": 2,
       "version_minor": 0
      },
      "text/plain": [
       "  0%|          | 0/26421880 [00:00<?, ?it/s]"
      ]
     },
     "metadata": {},
     "output_type": "display_data"
    },
    {
     "name": "stdout",
     "output_type": "stream",
     "text": [
      "Extracting ./data\\FashionMNIST\\raw\\train-images-idx3-ubyte.gz to ./data\\FashionMNIST\\raw\n",
      "\n",
      "Downloading http://fashion-mnist.s3-website.eu-central-1.amazonaws.com/train-labels-idx1-ubyte.gz\n",
      "Downloading http://fashion-mnist.s3-website.eu-central-1.amazonaws.com/train-labels-idx1-ubyte.gz to ./data\\FashionMNIST\\raw\\train-labels-idx1-ubyte.gz\n"
     ]
    },
    {
     "data": {
      "application/vnd.jupyter.widget-view+json": {
       "model_id": "5308bbdba18d44d9936de751d96c6f03",
       "version_major": 2,
       "version_minor": 0
      },
      "text/plain": [
       "  0%|          | 0/29515 [00:00<?, ?it/s]"
      ]
     },
     "metadata": {},
     "output_type": "display_data"
    },
    {
     "name": "stdout",
     "output_type": "stream",
     "text": [
      "Extracting ./data\\FashionMNIST\\raw\\train-labels-idx1-ubyte.gz to ./data\\FashionMNIST\\raw\n",
      "\n",
      "Downloading http://fashion-mnist.s3-website.eu-central-1.amazonaws.com/t10k-images-idx3-ubyte.gz\n",
      "Downloading http://fashion-mnist.s3-website.eu-central-1.amazonaws.com/t10k-images-idx3-ubyte.gz to ./data\\FashionMNIST\\raw\\t10k-images-idx3-ubyte.gz\n"
     ]
    },
    {
     "data": {
      "application/vnd.jupyter.widget-view+json": {
       "model_id": "34d2a355963c4cbaac56835a097f3bbf",
       "version_major": 2,
       "version_minor": 0
      },
      "text/plain": [
       "  0%|          | 0/4422102 [00:00<?, ?it/s]"
      ]
     },
     "metadata": {},
     "output_type": "display_data"
    },
    {
     "name": "stdout",
     "output_type": "stream",
     "text": [
      "Extracting ./data\\FashionMNIST\\raw\\t10k-images-idx3-ubyte.gz to ./data\\FashionMNIST\\raw\n",
      "\n",
      "Downloading http://fashion-mnist.s3-website.eu-central-1.amazonaws.com/t10k-labels-idx1-ubyte.gz\n",
      "Downloading http://fashion-mnist.s3-website.eu-central-1.amazonaws.com/t10k-labels-idx1-ubyte.gz to ./data\\FashionMNIST\\raw\\t10k-labels-idx1-ubyte.gz\n"
     ]
    },
    {
     "data": {
      "application/vnd.jupyter.widget-view+json": {
       "model_id": "6d0f25e259ed428a80df4f5077ffa5a1",
       "version_major": 2,
       "version_minor": 0
      },
      "text/plain": [
       "  0%|          | 0/5148 [00:00<?, ?it/s]"
      ]
     },
     "metadata": {},
     "output_type": "display_data"
    },
    {
     "name": "stdout",
     "output_type": "stream",
     "text": [
      "Extracting ./data\\FashionMNIST\\raw\\t10k-labels-idx1-ubyte.gz to ./data\\FashionMNIST\\raw\n",
      "\n"
     ]
    },
    {
     "name": "stderr",
     "output_type": "stream",
     "text": [
      "C:\\Users\\anton.sotnikov\\Anaconda3\\lib\\site-packages\\torchvision\\datasets\\mnist.py:498: UserWarning: The given NumPy array is not writeable, and PyTorch does not support non-writeable tensors. This means you can write to the underlying (supposedly non-writeable) NumPy array using the tensor. You may want to copy the array to protect its data or make it writeable before converting it to a tensor. This type of warning will be suppressed for the rest of this program. (Triggered internally at  ..\\torch\\csrc\\utils\\tensor_numpy.cpp:180.)\n",
      "  return torch.from_numpy(parsed.astype(m[2], copy=False)).view(*s)\n"
     ]
    }
   ],
   "source": [
    "transform = transforms.Compose([transforms.ToTensor(), transforms.Normalize((0.5), (0.5))])\n",
    "train_dataset = FashionMNIST(root=\"./data\", train=True, download=True, transform=transform)\n",
    "val_dataset = FashionMNIST(root=\"./data\", train=False, download=True, transform=transform)"
   ]
  },
  {
   "cell_type": "code",
   "execution_count": 7,
   "id": "68914324-fd63-4176-a2be-f114846574f4",
   "metadata": {},
   "outputs": [],
   "source": [
    "model = CNN(input_size=1, \n",
    "            in_channels=1, \n",
    "            channels=2, \n",
    "            n_classes=10, \n",
    "            n_layers=3, \n",
    "            n_nodes=4,\n",
    "            stem_multiplier=3,\n",
    "            auxiliary=False)\n",
    "\n",
    "criterion = torch.nn.CrossEntropyLoss()\n",
    "optimizer = torch.optim.AdamW(model.parameters())\n",
    "\n",
    "device = torch.device('cuda:0') if torch.cuda.is_available() else torch.device('cpu')"
   ]
  },
  {
   "cell_type": "code",
   "execution_count": 8,
   "id": "78ecd60f-e2fd-477a-8271-e61eb2da9f8d",
   "metadata": {},
   "outputs": [
    {
     "name": "stderr",
     "output_type": "stream",
     "text": [
      "C:\\Users\\anton.sotnikov\\Anaconda3\\lib\\site-packages\\torch\\nn\\functional.py:718: UserWarning: Named tensors and all their associated APIs are an experimental feature and subject to change. Please do not use them for anything important until they are released as stable. (Triggered internally at  ..\\c10/core/TensorImpl.h:1156.)\n",
      "  return torch.max_pool2d(input, kernel_size, stride, padding, dilation, ceil_mode)\n"
     ]
    },
    {
     "name": "stdout",
     "output_type": "stream",
     "text": [
      "[2022-06-10 13:22:43] INFO (nni.retiarii.oneshot.pytorch.random/MainThread) Epoch [1/1] Step [1/938]  acc1 0.125000 (0.125000)  loss 2.317144 (2.317144)\n",
      "[2022-06-10 13:22:47] INFO (nni.retiarii.oneshot.pytorch.random/MainThread) Epoch [1/1] Step [21/938]  acc1 0.046875 (0.084077)  loss 2.282902 (2.328640)\n",
      "[2022-06-10 13:22:51] INFO (nni.retiarii.oneshot.pytorch.random/MainThread) Epoch [1/1] Step [41/938]  acc1 0.218750 (0.087652)  loss 2.288465 (2.321749)\n",
      "[2022-06-10 13:22:56] INFO (nni.retiarii.oneshot.pytorch.random/MainThread) Epoch [1/1] Step [61/938]  acc1 0.140625 (0.094518)  loss 2.303602 (2.317756)\n",
      "[2022-06-10 13:23:01] INFO (nni.retiarii.oneshot.pytorch.random/MainThread) Epoch [1/1] Step [81/938]  acc1 0.140625 (0.098380)  loss 2.261359 (2.314802)\n",
      "[2022-06-10 13:23:06] INFO (nni.retiarii.oneshot.pytorch.random/MainThread) Epoch [1/1] Step [101/938]  acc1 0.125000 (0.101176)  loss 2.267440 (2.310898)\n",
      "[2022-06-10 13:23:11] INFO (nni.retiarii.oneshot.pytorch.random/MainThread) Epoch [1/1] Step [121/938]  acc1 0.125000 (0.102531)  loss 2.283038 (2.311208)\n",
      "[2022-06-10 13:23:16] INFO (nni.retiarii.oneshot.pytorch.random/MainThread) Epoch [1/1] Step [141/938]  acc1 0.140625 (0.104721)  loss 2.285320 (2.308739)\n",
      "[2022-06-10 13:23:21] INFO (nni.retiarii.oneshot.pytorch.random/MainThread) Epoch [1/1] Step [161/938]  acc1 0.062500 (0.106949)  loss 2.311634 (2.305784)\n",
      "[2022-06-10 13:23:27] INFO (nni.retiarii.oneshot.pytorch.random/MainThread) Epoch [1/1] Step [181/938]  acc1 0.078125 (0.109720)  loss 2.306748 (2.301684)\n",
      "[2022-06-10 13:23:33] INFO (nni.retiarii.oneshot.pytorch.random/MainThread) Epoch [1/1] Step [201/938]  acc1 0.140625 (0.114195)  loss 2.316534 (2.296347)\n",
      "[2022-06-10 13:23:39] INFO (nni.retiarii.oneshot.pytorch.random/MainThread) Epoch [1/1] Step [221/938]  acc1 0.156250 (0.116233)  loss 2.116410 (2.292179)\n",
      "[2022-06-10 13:23:44] INFO (nni.retiarii.oneshot.pytorch.random/MainThread) Epoch [1/1] Step [241/938]  acc1 0.281250 (0.119295)  loss 2.141932 (2.288142)\n",
      "[2022-06-10 13:23:50] INFO (nni.retiarii.oneshot.pytorch.random/MainThread) Epoch [1/1] Step [261/938]  acc1 0.218750 (0.121767)  loss 2.175668 (2.282577)\n",
      "[2022-06-10 13:23:55] INFO (nni.retiarii.oneshot.pytorch.random/MainThread) Epoch [1/1] Step [281/938]  acc1 0.171875 (0.126668)  loss 2.231704 (2.276163)\n",
      "[2022-06-10 13:24:01] INFO (nni.retiarii.oneshot.pytorch.random/MainThread) Epoch [1/1] Step [301/938]  acc1 0.078125 (0.128582)  loss 2.340237 (2.268614)\n",
      "[2022-06-10 13:24:06] INFO (nni.retiarii.oneshot.pytorch.random/MainThread) Epoch [1/1] Step [321/938]  acc1 0.296875 (0.134492)  loss 2.073275 (2.258994)\n",
      "[2022-06-10 13:24:11] INFO (nni.retiarii.oneshot.pytorch.random/MainThread) Epoch [1/1] Step [341/938]  acc1 0.218750 (0.138105)  loss 2.018416 (2.250042)\n",
      "[2022-06-10 13:24:16] INFO (nni.retiarii.oneshot.pytorch.random/MainThread) Epoch [1/1] Step [361/938]  acc1 0.328125 (0.143135)  loss 1.929769 (2.239466)\n",
      "[2022-06-10 13:24:21] INFO (nni.retiarii.oneshot.pytorch.random/MainThread) Epoch [1/1] Step [381/938]  acc1 0.187500 (0.146613)  loss 1.954494 (2.227322)\n",
      "[2022-06-10 13:24:26] INFO (nni.retiarii.oneshot.pytorch.random/MainThread) Epoch [1/1] Step [401/938]  acc1 0.187500 (0.148964)  loss 1.903736 (2.215389)\n",
      "[2022-06-10 13:24:31] INFO (nni.retiarii.oneshot.pytorch.random/MainThread) Epoch [1/1] Step [421/938]  acc1 0.250000 (0.150980)  loss 1.879156 (2.202905)\n",
      "[2022-06-10 13:24:36] INFO (nni.retiarii.oneshot.pytorch.random/MainThread) Epoch [1/1] Step [441/938]  acc1 0.281250 (0.153132)  loss 1.977016 (2.190559)\n",
      "[2022-06-10 13:24:41] INFO (nni.retiarii.oneshot.pytorch.random/MainThread) Epoch [1/1] Step [461/938]  acc1 0.187500 (0.156148)  loss 1.933649 (2.177081)\n",
      "[2022-06-10 13:24:45] INFO (nni.retiarii.oneshot.pytorch.random/MainThread) Epoch [1/1] Step [481/938]  acc1 0.203125 (0.157647)  loss 1.813546 (2.167373)\n",
      "[2022-06-10 13:24:50] INFO (nni.retiarii.oneshot.pytorch.random/MainThread) Epoch [1/1] Step [501/938]  acc1 0.218750 (0.160429)  loss 1.817492 (2.155950)\n",
      "[2022-06-10 13:24:55] INFO (nni.retiarii.oneshot.pytorch.random/MainThread) Epoch [1/1] Step [521/938]  acc1 0.187500 (0.162398)  loss 1.807097 (2.144533)\n",
      "[2022-06-10 13:24:59] INFO (nni.retiarii.oneshot.pytorch.random/MainThread) Epoch [1/1] Step [541/938]  acc1 0.078125 (0.164337)  loss 1.898495 (2.133740)\n",
      "[2022-06-10 13:25:04] INFO (nni.retiarii.oneshot.pytorch.random/MainThread) Epoch [1/1] Step [561/938]  acc1 0.156250 (0.166444)  loss 1.789053 (2.122763)\n",
      "[2022-06-10 13:25:09] INFO (nni.retiarii.oneshot.pytorch.random/MainThread) Epoch [1/1] Step [581/938]  acc1 0.156250 (0.168110)  loss 1.732242 (2.111064)\n",
      "[2022-06-10 13:25:15] INFO (nni.retiarii.oneshot.pytorch.random/MainThread) Epoch [1/1] Step [601/938]  acc1 0.265625 (0.169977)  loss 1.831321 (2.101486)\n",
      "[2022-06-10 13:25:20] INFO (nni.retiarii.oneshot.pytorch.random/MainThread) Epoch [1/1] Step [621/938]  acc1 0.234375 (0.171900)  loss 1.826964 (2.092141)\n",
      "[2022-06-10 13:25:26] INFO (nni.retiarii.oneshot.pytorch.random/MainThread) Epoch [1/1] Step [641/938]  acc1 0.343750 (0.173557)  loss 1.830828 (2.082876)\n",
      "[2022-06-10 13:25:32] INFO (nni.retiarii.oneshot.pytorch.random/MainThread) Epoch [1/1] Step [661/938]  acc1 0.187500 (0.174570)  loss 1.847179 (2.073650)\n",
      "[2022-06-10 13:25:37] INFO (nni.retiarii.oneshot.pytorch.random/MainThread) Epoch [1/1] Step [681/938]  acc1 0.218750 (0.177060)  loss 1.777757 (2.065241)\n",
      "[2022-06-10 13:25:43] INFO (nni.retiarii.oneshot.pytorch.random/MainThread) Epoch [1/1] Step [701/938]  acc1 0.421875 (0.178495)  loss 1.731976 (2.057911)\n",
      "[2022-06-10 13:25:48] INFO (nni.retiarii.oneshot.pytorch.random/MainThread) Epoch [1/1] Step [721/938]  acc1 0.296875 (0.180544)  loss 1.725708 (2.049577)\n",
      "[2022-06-10 13:25:53] INFO (nni.retiarii.oneshot.pytorch.random/MainThread) Epoch [1/1] Step [741/938]  acc1 0.218750 (0.181870)  loss 1.744795 (2.041776)\n",
      "[2022-06-10 13:25:58] INFO (nni.retiarii.oneshot.pytorch.random/MainThread) Epoch [1/1] Step [761/938]  acc1 0.265625 (0.182921)  loss 1.748425 (2.034551)\n",
      "[2022-06-10 13:26:10] INFO (nni.retiarii.oneshot.pytorch.random/MainThread) Epoch [1/1] Step [781/938]  acc1 0.343750 (0.184399)  loss 1.626648 (2.027116)\n"
     ]
    },
    {
     "ename": "RuntimeError",
     "evalue": "[enforce fail at ..\\c10\\core\\CPUAllocator.cpp:79] data. DefaultCPUAllocator: not enough memory: you tried to allocate 1605632 bytes.",
     "output_type": "error",
     "traceback": [
      "\u001b[1;31m---------------------------------------------------------------------------\u001b[0m",
      "\u001b[1;31mRuntimeError\u001b[0m                              Traceback (most recent call last)",
      "\u001b[1;32m<ipython-input-8-286d22bf6a50>\u001b[0m in \u001b[0;36m<module>\u001b[1;34m\u001b[0m\n\u001b[0;32m     12\u001b[0m     )\n\u001b[0;32m     13\u001b[0m \u001b[1;33m\u001b[0m\u001b[0m\n\u001b[1;32m---> 14\u001b[1;33m \u001b[0mtrainer\u001b[0m\u001b[1;33m.\u001b[0m\u001b[0mfit\u001b[0m\u001b[1;33m(\u001b[0m\u001b[1;33m)\u001b[0m\u001b[1;33m\u001b[0m\u001b[1;33m\u001b[0m\u001b[0m\n\u001b[0m",
      "\u001b[1;32m~\\Anaconda3\\lib\\site-packages\\nni\\retiarii\\oneshot\\pytorch\\random.py\u001b[0m in \u001b[0;36mfit\u001b[1;34m(self)\u001b[0m\n\u001b[0;32m    195\u001b[0m     \u001b[1;32mdef\u001b[0m \u001b[0mfit\u001b[0m\u001b[1;33m(\u001b[0m\u001b[0mself\u001b[0m\u001b[1;33m)\u001b[0m\u001b[1;33m:\u001b[0m\u001b[1;33m\u001b[0m\u001b[1;33m\u001b[0m\u001b[0m\n\u001b[0;32m    196\u001b[0m         \u001b[1;32mfor\u001b[0m \u001b[0mi\u001b[0m \u001b[1;32min\u001b[0m \u001b[0mrange\u001b[0m\u001b[1;33m(\u001b[0m\u001b[0mself\u001b[0m\u001b[1;33m.\u001b[0m\u001b[0mnum_epochs\u001b[0m\u001b[1;33m)\u001b[0m\u001b[1;33m:\u001b[0m\u001b[1;33m\u001b[0m\u001b[1;33m\u001b[0m\u001b[0m\n\u001b[1;32m--> 197\u001b[1;33m             \u001b[0mself\u001b[0m\u001b[1;33m.\u001b[0m\u001b[0m_train_one_epoch\u001b[0m\u001b[1;33m(\u001b[0m\u001b[0mi\u001b[0m\u001b[1;33m)\u001b[0m\u001b[1;33m\u001b[0m\u001b[1;33m\u001b[0m\u001b[0m\n\u001b[0m\u001b[0;32m    198\u001b[0m             \u001b[0mself\u001b[0m\u001b[1;33m.\u001b[0m\u001b[0m_validate_one_epoch\u001b[0m\u001b[1;33m(\u001b[0m\u001b[0mi\u001b[0m\u001b[1;33m)\u001b[0m\u001b[1;33m\u001b[0m\u001b[1;33m\u001b[0m\u001b[0m\n\u001b[0;32m    199\u001b[0m \u001b[1;33m\u001b[0m\u001b[0m\n",
      "\u001b[1;32m~\\Anaconda3\\lib\\site-packages\\nni\\retiarii\\oneshot\\pytorch\\random.py\u001b[0m in \u001b[0;36m_train_one_epoch\u001b[1;34m(self, epoch)\u001b[0m\n\u001b[0;32m    167\u001b[0m             \u001b[0mlogits\u001b[0m \u001b[1;33m=\u001b[0m \u001b[0mself\u001b[0m\u001b[1;33m.\u001b[0m\u001b[0mmodel\u001b[0m\u001b[1;33m(\u001b[0m\u001b[0mx\u001b[0m\u001b[1;33m)\u001b[0m\u001b[1;33m\u001b[0m\u001b[1;33m\u001b[0m\u001b[0m\n\u001b[0;32m    168\u001b[0m             \u001b[0mloss\u001b[0m \u001b[1;33m=\u001b[0m \u001b[0mself\u001b[0m\u001b[1;33m.\u001b[0m\u001b[0mloss\u001b[0m\u001b[1;33m(\u001b[0m\u001b[0mlogits\u001b[0m\u001b[1;33m,\u001b[0m \u001b[0my\u001b[0m\u001b[1;33m)\u001b[0m\u001b[1;33m\u001b[0m\u001b[1;33m\u001b[0m\u001b[0m\n\u001b[1;32m--> 169\u001b[1;33m             \u001b[0mloss\u001b[0m\u001b[1;33m.\u001b[0m\u001b[0mbackward\u001b[0m\u001b[1;33m(\u001b[0m\u001b[1;33m)\u001b[0m\u001b[1;33m\u001b[0m\u001b[1;33m\u001b[0m\u001b[0m\n\u001b[0m\u001b[0;32m    170\u001b[0m             \u001b[0mself\u001b[0m\u001b[1;33m.\u001b[0m\u001b[0moptimizer\u001b[0m\u001b[1;33m.\u001b[0m\u001b[0mstep\u001b[0m\u001b[1;33m(\u001b[0m\u001b[1;33m)\u001b[0m\u001b[1;33m\u001b[0m\u001b[1;33m\u001b[0m\u001b[0m\n\u001b[0;32m    171\u001b[0m \u001b[1;33m\u001b[0m\u001b[0m\n",
      "\u001b[1;32m~\\Anaconda3\\lib\\site-packages\\torch\\_tensor.py\u001b[0m in \u001b[0;36mbackward\u001b[1;34m(self, gradient, retain_graph, create_graph, inputs)\u001b[0m\n\u001b[0;32m    253\u001b[0m                 \u001b[0mcreate_graph\u001b[0m\u001b[1;33m=\u001b[0m\u001b[0mcreate_graph\u001b[0m\u001b[1;33m,\u001b[0m\u001b[1;33m\u001b[0m\u001b[1;33m\u001b[0m\u001b[0m\n\u001b[0;32m    254\u001b[0m                 inputs=inputs)\n\u001b[1;32m--> 255\u001b[1;33m         \u001b[0mtorch\u001b[0m\u001b[1;33m.\u001b[0m\u001b[0mautograd\u001b[0m\u001b[1;33m.\u001b[0m\u001b[0mbackward\u001b[0m\u001b[1;33m(\u001b[0m\u001b[0mself\u001b[0m\u001b[1;33m,\u001b[0m \u001b[0mgradient\u001b[0m\u001b[1;33m,\u001b[0m \u001b[0mretain_graph\u001b[0m\u001b[1;33m,\u001b[0m \u001b[0mcreate_graph\u001b[0m\u001b[1;33m,\u001b[0m \u001b[0minputs\u001b[0m\u001b[1;33m=\u001b[0m\u001b[0minputs\u001b[0m\u001b[1;33m)\u001b[0m\u001b[1;33m\u001b[0m\u001b[1;33m\u001b[0m\u001b[0m\n\u001b[0m\u001b[0;32m    256\u001b[0m \u001b[1;33m\u001b[0m\u001b[0m\n\u001b[0;32m    257\u001b[0m     \u001b[1;32mdef\u001b[0m \u001b[0mregister_hook\u001b[0m\u001b[1;33m(\u001b[0m\u001b[0mself\u001b[0m\u001b[1;33m,\u001b[0m \u001b[0mhook\u001b[0m\u001b[1;33m)\u001b[0m\u001b[1;33m:\u001b[0m\u001b[1;33m\u001b[0m\u001b[1;33m\u001b[0m\u001b[0m\n",
      "\u001b[1;32m~\\Anaconda3\\lib\\site-packages\\torch\\autograd\\__init__.py\u001b[0m in \u001b[0;36mbackward\u001b[1;34m(tensors, grad_tensors, retain_graph, create_graph, grad_variables, inputs)\u001b[0m\n\u001b[0;32m    145\u001b[0m         \u001b[0mretain_graph\u001b[0m \u001b[1;33m=\u001b[0m \u001b[0mcreate_graph\u001b[0m\u001b[1;33m\u001b[0m\u001b[1;33m\u001b[0m\u001b[0m\n\u001b[0;32m    146\u001b[0m \u001b[1;33m\u001b[0m\u001b[0m\n\u001b[1;32m--> 147\u001b[1;33m     Variable._execution_engine.run_backward(\n\u001b[0m\u001b[0;32m    148\u001b[0m         \u001b[0mtensors\u001b[0m\u001b[1;33m,\u001b[0m \u001b[0mgrad_tensors_\u001b[0m\u001b[1;33m,\u001b[0m \u001b[0mretain_graph\u001b[0m\u001b[1;33m,\u001b[0m \u001b[0mcreate_graph\u001b[0m\u001b[1;33m,\u001b[0m \u001b[0minputs\u001b[0m\u001b[1;33m,\u001b[0m\u001b[1;33m\u001b[0m\u001b[1;33m\u001b[0m\u001b[0m\n\u001b[0;32m    149\u001b[0m         allow_unreachable=True, accumulate_grad=True)  # allow_unreachable flag\n",
      "\u001b[1;31mRuntimeError\u001b[0m: [enforce fail at ..\\c10\\core\\CPUAllocator.cpp:79] data. DefaultCPUAllocator: not enough memory: you tried to allocate 1605632 bytes."
     ]
    }
   ],
   "source": [
    "trainer = SinglePathTrainer(\n",
    "    model=model,\n",
    "    loss=criterion,\n",
    "    metrics=lambda output, target: accuracy(output, target),\n",
    "    optimizer=optimizer,\n",
    "    num_epochs=1,\n",
    "    dataset_train=train_dataset,\n",
    "    dataset_valid=val_dataset,\n",
    "    batch_size=64,\n",
    "    log_frequency=20,\n",
    "    device=device\n",
    "    )\n",
    "\n",
    "trainer.fit()"
   ]
  },
  {
   "cell_type": "code",
   "execution_count": null,
   "id": "1a2808b3-6de9-464a-989c-1b03dc69bd18",
   "metadata": {},
   "outputs": [],
   "source": []
  }
 ],
 "metadata": {
  "kernelspec": {
   "display_name": "Python 3",
   "language": "python",
   "name": "python3"
  },
  "language_info": {
   "codemirror_mode": {
    "name": "ipython",
    "version": 3
   },
   "file_extension": ".py",
   "mimetype": "text/x-python",
   "name": "python",
   "nbconvert_exporter": "python",
   "pygments_lexer": "ipython3",
   "version": "3.8.8"
  }
 },
 "nbformat": 4,
 "nbformat_minor": 5
}
