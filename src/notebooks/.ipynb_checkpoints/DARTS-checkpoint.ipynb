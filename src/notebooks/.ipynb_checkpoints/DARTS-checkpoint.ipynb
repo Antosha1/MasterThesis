{
 "cells": [
  {
   "cell_type": "code",
   "execution_count": 1,
   "id": "8df5ad51-5347-4673-936f-4970211a9056",
   "metadata": {},
   "outputs": [],
   "source": [
    "import sys\n",
    "sys.path.append('../')\n",
    "\n",
    "from model import CNN\n",
    "from utils import accuracy\n",
    "\n",
    "import nni\n",
    "from nni.retiarii.oneshot.pytorch import DartsTrainer\n",
    "\n",
    "import torch\n",
    "from torchvision import transforms\n",
    "from torchvision.datasets import FashionMNIST"
   ]
  },
  {
   "cell_type": "code",
   "execution_count": 2,
   "id": "bbea16f7-6783-4088-a22b-900aebe6c7de",
   "metadata": {},
   "outputs": [
    {
     "name": "stderr",
     "output_type": "stream",
     "text": [
      "C:\\Users\\anton.sotnikov\\Anaconda3\\lib\\site-packages\\torchvision\\datasets\\mnist.py:498: UserWarning: The given NumPy array is not writeable, and PyTorch does not support non-writeable tensors. This means you can write to the underlying (supposedly non-writeable) NumPy array using the tensor. You may want to copy the array to protect its data or make it writeable before converting it to a tensor. This type of warning will be suppressed for the rest of this program. (Triggered internally at  ..\\torch\\csrc\\utils\\tensor_numpy.cpp:180.)\n",
      "  return torch.from_numpy(parsed.astype(m[2], copy=False)).view(*s)\n"
     ]
    }
   ],
   "source": [
    "transform = transforms.Compose([transforms.ToTensor(), transforms.Normalize((0.5), (0.5))])\n",
    "train_dataset = FashionMNIST(root=\"./data\", train=True, download=True, transform=transform)\n",
    "val_dataset = FashionMNIST(root=\"./data\", train=False, download=True, transform=transform)"
   ]
  },
  {
   "cell_type": "code",
   "execution_count": 10,
   "id": "b3b07d99-8c43-4f66-b02c-7ea1f89bee04",
   "metadata": {},
   "outputs": [],
   "source": [
    "model = CNN(input_size=1, \n",
    "            in_channels=1, \n",
    "            channels=2, \n",
    "            n_classes=10, \n",
    "            n_layers=3, \n",
    "            n_nodes=4,\n",
    "            stem_multiplier=3,\n",
    "            auxiliary=False)\n",
    "\n",
    "criterion = torch.nn.CrossEntropyLoss()\n",
    "optimizer = torch.optim.AdamW(model.parameters())\n",
    "\n",
    "device = torch.device('cuda:0') if torch.cuda.is_available() else torch.device('cpu')"
   ]
  },
  {
   "cell_type": "code",
   "execution_count": 12,
   "id": "f9f84a4d-c95b-42b9-92f2-3108cf67a6eb",
   "metadata": {},
   "outputs": [],
   "source": [
    "trainer = DartsTrainer(\n",
    "    model=model,\n",
    "    loss=criterion,\n",
    "    metrics=lambda output, target: accuracy(output, target),\n",
    "    optimizer=optimizer,\n",
    "    num_epochs=1,\n",
    "    dataset=train_dataset,\n",
    "    batch_size=64,\n",
    "    log_frequency=20,\n",
    "    device=device\n",
    "    )\n",
    "\n",
    "trainer.fit()"
   ]
  },
  {
   "cell_type": "code",
   "execution_count": null,
   "id": "9713ea3c-4e20-4b64-a450-c0c7ceeb0c45",
   "metadata": {},
   "outputs": [],
   "source": []
  }
 ],
 "metadata": {
  "kernelspec": {
   "display_name": "Python 3",
   "language": "python",
   "name": "python3"
  },
  "language_info": {
   "codemirror_mode": {
    "name": "ipython",
    "version": 3
   },
   "file_extension": ".py",
   "mimetype": "text/x-python",
   "name": "python",
   "nbconvert_exporter": "python",
   "pygments_lexer": "ipython3",
   "version": "3.8.8"
  }
 },
 "nbformat": 4,
 "nbformat_minor": 5
}
